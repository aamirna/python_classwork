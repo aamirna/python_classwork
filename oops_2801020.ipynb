{
  "nbformat": 4,
  "nbformat_minor": 0,
  "metadata": {
    "colab": {
      "name": "oops_2801020.ipynb",
      "provenance": [],
      "authorship_tag": "ABX9TyMUZjQchr/6vuM6Q3MGzXdR",
      "include_colab_link": true
    },
    "kernelspec": {
      "name": "python3",
      "display_name": "Python 3"
    }
  },
  "cells": [
    {
      "cell_type": "markdown",
      "metadata": {
        "id": "view-in-github",
        "colab_type": "text"
      },
      "source": [
        "<a href=\"https://colab.research.google.com/github/aamirna/python_classwork/blob/main/oops_2801020.ipynb\" target=\"_parent\"><img src=\"https://colab.research.google.com/assets/colab-badge.svg\" alt=\"Open In Colab\"/></a>"
      ]
    },
    {
      "cell_type": "code",
      "metadata": {
        "colab": {
          "base_uri": "https://localhost:8080/"
        },
        "id": "uBJ2x7rz8WIN",
        "outputId": "c5aaab24-a428-4ce7-ee2b-099b3d053300"
      },
      "source": [
        "class Computer(): # creating a class\r\n",
        "  def __init__(self):  #initialize/ constructor\r\n",
        "    self.manufacturer = \"Lenovo\"  #variables are properties\r\n",
        "    self.model = \"Ideapad3310\"\r\n",
        "    print(\"i am constructor and your object has been created\")\r\n",
        "\r\n",
        "  def showConfiguration(slef): # object is needed to call this method\r\n",
        "    print(\"i5\", \"16GB\", \"1TB\") #INSTANCE/OBJECT METHOD\r\n",
        "\r\n",
        "#Acessing object properties\r\n",
        "comp1 = Computer() #creating an object\r\n",
        "comp1.manufacturer #accessing properties\r\n",
        "comp1.model\r\n",
        "comp1.showConfiguration()"
      ],
      "execution_count": 6,
      "outputs": [
        {
          "output_type": "stream",
          "text": [
            "i am constructor and your object has been created\n",
            "i5 16GB 1TB\n"
          ],
          "name": "stdout"
        }
      ]
    },
    {
      "cell_type": "code",
      "metadata": {
        "colab": {
          "base_uri": "https://localhost:8080/"
        },
        "id": "Xh30bqzrD1Ek",
        "outputId": "da5f3993-f0ba-4d63-e9be-b3205cb8d40c"
      },
      "source": [
        "comp2 = Computer() # creating an other object\r\n",
        "comp2.manufacturer   \r\n",
        "comp2.model\r\n",
        "comp2.showConfiguration()"
      ],
      "execution_count": 8,
      "outputs": [
        {
          "output_type": "stream",
          "text": [
            "i am constructor and your object has been created\n",
            "i5 16GB 1TB\n"
          ],
          "name": "stdout"
        }
      ]
    },
    {
      "cell_type": "code",
      "metadata": {
        "colab": {
          "base_uri": "https://localhost:8080/"
        },
        "id": "GG8wOvMCE5Ij",
        "outputId": "b36591e0-64b4-48ee-f87c-df9a344e8994"
      },
      "source": [
        "#creating an object with changeable properties \r\n",
        "class Computer1(): # creating a class\r\n",
        "  def __init__(self, processor, ram, hdd):  #initialize/ constructor\r\n",
        "    self.processor = processor\r\n",
        "    self.ram = ram\r\n",
        "    self.hdd = hdd\r\n",
        "    self.manufacturer = \"Lenovo\"  #variables are properties\r\n",
        "    self.model = \"Ideapad3310\"\r\n",
        "    print(\"i am constructor and your object has been created\")\r\n",
        "\r\n",
        "  def showConfiguration(self): # object is needed to call this method\r\n",
        "    print(self.processor, self.ram, self.hdd) #INSTANCE/OBJECT METHOD\r\n",
        "\r\n",
        "newcomp1 = Computer1('corei9', '64', '1PT')\r\n",
        "newcomp1.showConfiguration()"
      ],
      "execution_count": 19,
      "outputs": [
        {
          "output_type": "stream",
          "text": [
            "i am constructor and your object has been created\n",
            "corei9 64 1PT\n"
          ],
          "name": "stdout"
        }
      ]
    },
    {
      "cell_type": "code",
      "metadata": {
        "id": "EiSJ16_LFaKy"
      },
      "source": [
        ""
      ],
      "execution_count": null,
      "outputs": []
    }
  ]
}