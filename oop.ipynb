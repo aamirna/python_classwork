{
  "nbformat": 4,
  "nbformat_minor": 0,
  "metadata": {
    "colab": {
      "name": "oop.ipynb",
      "provenance": [],
      "authorship_tag": "ABX9TyMBdGsup8q0M1JQV7Lghvk0",
      "include_colab_link": true
    },
    "kernelspec": {
      "name": "python3",
      "display_name": "Python 3"
    }
  },
  "cells": [
    {
      "cell_type": "markdown",
      "metadata": {
        "id": "view-in-github",
        "colab_type": "text"
      },
      "source": [
        "<a href=\"https://colab.research.google.com/github/aamirna/python_classwork/blob/main/oop.ipynb\" target=\"_parent\"><img src=\"https://colab.research.google.com/assets/colab-badge.svg\" alt=\"Open In Colab\"/></a>"
      ]
    },
    {
      "cell_type": "code",
      "metadata": {
        "colab": {
          "base_uri": "https://localhost:8080/"
        },
        "id": "uBJ2x7rz8WIN",
        "outputId": "36fe8f9c-e4f4-4423-c25f-5e9a0f79676b"
      },
      "source": [
        "class Computer():\r\n",
        "  def __init__(self):  #initialize/ constructor\r\n",
        "    self.manufacturer = \"Lenovo\"  #variables are properties\r\n",
        "    self.model = \"Ideapad3310\"\r\n",
        "    print(\"i am constructor and your object has been created\")\r\n",
        "\r\n",
        "  def showConfiguration(slef): # object is needed to call this method\r\n",
        "    print(\"i5\", \"16GB\", \"1TB\") #INSTANCE/OBJECT METHOD\r\n",
        "\r\n",
        "comp1 = Computer()"
      ],
      "execution_count": 3,
      "outputs": [
        {
          "output_type": "stream",
          "text": [
            "i am constructor and your object has been created\n"
          ],
          "name": "stdout"
        }
      ]
    }
  ]
}